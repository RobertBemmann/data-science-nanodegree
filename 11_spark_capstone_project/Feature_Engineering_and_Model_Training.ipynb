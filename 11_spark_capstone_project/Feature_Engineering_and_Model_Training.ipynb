{
 "cells": [
  {
   "cell_type": "markdown",
   "metadata": {},
   "source": [
    "# Sparkify Project Workspace\n",
    "This workspace contains a tiny subset (128MB) of the full dataset available (12GB). Feel free to use this workspace to build your project, or to explore a smaller subset with Spark before deploying your cluster on the cloud. Instructions for setting up your Spark cluster is included in the last lesson of the Extracurricular Spark Course content.\n",
    "\n",
    "You can follow the steps below to guide your data analysis and model building portion of this project."
   ]
  },
  {
   "cell_type": "code",
   "execution_count": 1,
   "metadata": {},
   "outputs": [],
   "source": [
    "# import libraries\n",
    "from pyspark.sql import SparkSession\n",
    "from pyspark.sql.types import StringType, IntegerType, BooleanType\n",
    "from pyspark.sql.functions import desc, asc, udf, col, isnan, count, when, col, desc, col, sort_array, asc, avg, max\n",
    "from pyspark.sql.functions import sum as Fsum\n",
    "from pyspark.sql import Window\n",
    "from pyspark.ml.tuning import CrossValidator, ParamGridBuilder\n",
    "from pyspark.ml.classification import LogisticRegression, NaiveBayes, RandomForestClassifier\n",
    "from pyspark.ml.feature import StandardScaler, VectorAssembler\n",
    "from pyspark.ml.evaluation import MulticlassClassificationEvaluator\n",
    "\n",
    "import datetime\n",
    "\n",
    "import numpy as np\n",
    "import pandas as pd\n",
    "%matplotlib inline\n",
    "import matplotlib.pyplot as plt"
   ]
  },
  {
   "cell_type": "code",
   "execution_count": 2,
   "metadata": {},
   "outputs": [],
   "source": [
    "# create a Spark session\n",
    "spark = SparkSession \\\n",
    "    .builder \\\n",
    "    .appName(\"Sparkify Project\") \\\n",
    "    .getOrCreate()"
   ]
  },
  {
   "cell_type": "code",
   "execution_count": 3,
   "metadata": {},
   "outputs": [
    {
     "data": {
      "text/plain": [
       "(286500, 278154)"
      ]
     },
     "execution_count": 3,
     "metadata": {},
     "output_type": "execute_result"
    }
   ],
   "source": [
    "sparkify_event_data = 'mini_sparkify_event_data.json'\n",
    "df = spark.read.json(sparkify_event_data)\n",
    "df_cleaned = df.dropna(how = \"any\", subset = [\"gender\"])\n",
    "df.count(), df_cleaned.count()"
   ]
  },
  {
   "cell_type": "markdown",
   "metadata": {},
   "source": [
    "# Feature Engineering\n",
    "Once you've familiarized yourself with the data, build out the features you find promising to train your model on. To work with the full dataset, you can follow the following steps.\n",
    "- Write a script to extract the necessary features from the smaller subset of data\n",
    "- Ensure that your script is scalable, using the best practices discussed in Lesson 3\n",
    "- Try your script on the full data set, debugging your script if necessary\n",
    "\n",
    "If you are working in the classroom workspace, you can just extract features based on the small subset of data contained here. Be sure to transfer over this work to the larger dataset when you work on your Spark cluster."
   ]
  },
  {
   "cell_type": "markdown",
   "metadata": {},
   "source": [
    "## Features derived from `gender`"
   ]
  },
  {
   "cell_type": "code",
   "execution_count": 4,
   "metadata": {},
   "outputs": [],
   "source": [
    "df_gender = df_cleaned.select('userId','gender').distinct()\\\n",
    "                        .withColumn('is_male', (df_cleaned.gender == 'M').cast(IntegerType()))\\\n",
    "                        .sort('userId')\\\n",
    "                        .select('userId','is_male')"
   ]
  },
  {
   "cell_type": "code",
   "execution_count": 5,
   "metadata": {},
   "outputs": [],
   "source": [
    "#df_gender.show(5)"
   ]
  },
  {
   "cell_type": "markdown",
   "metadata": {},
   "source": [
    "## Features derived from `page`"
   ]
  },
  {
   "cell_type": "code",
   "execution_count": 6,
   "metadata": {},
   "outputs": [
    {
     "name": "stdout",
     "output_type": "stream",
     "text": [
      "['Submit Downgrade', 'Thumbs Down', 'Home', 'Downgrade', 'Roll Advert', 'Logout', 'Save Settings', 'About', 'Settings', 'Add to Playlist', 'Add Friend', 'NextSong', 'Thumbs Up', 'Help', 'Upgrade', 'Error', 'Submit Upgrade']\n"
     ]
    }
   ],
   "source": [
    "# One hot encode all distinct page values and put in the count per page per userId as feature\n",
    "\n",
    "# create list of pages\n",
    "pages = [row[0] for row in df_cleaned.select('page').distinct().collect()]\n",
    "# remove cancellation events\n",
    "pages.remove('Cancel')\n",
    "pages.remove('Cancellation Confirmation')\n",
    "print(pages)\n",
    "\n",
    "windowval = Window.partitionBy('userId')\n",
    "\n",
    "df_page = df_cleaned\n",
    "\n",
    "# remove spaces in column names, fill column with 1 if page equals list value\n",
    "for page in pages:\n",
    "    df_page = df_page.withColumn(page.replace(' ', ''), \n",
    "                                       Fsum((df_cleaned.page == page).cast(IntegerType())).over(windowval))\n",
    "\n",
    "# 2nd list for df.select \n",
    "pages_2 = []\n",
    "\n",
    "for page in pages:\n",
    "    pages_2.append(page.replace(' ',''))\n",
    "\n",
    "# select subset of df and drop duplicates \n",
    "df_page = df_page.select('userId', *pages_2).dropDuplicates().sort('userId')"
   ]
  },
  {
   "cell_type": "code",
   "execution_count": 7,
   "metadata": {},
   "outputs": [],
   "source": [
    "#df_page_pd = df_page.toPandas()\n",
    "#df_page_pd.head()"
   ]
  },
  {
   "cell_type": "markdown",
   "metadata": {},
   "source": [
    "## Features derived from `itemInSession`, `sessionId` and `song`\n",
    "We go for the average count of songs listened per session per user and the total count of songs listened here."
   ]
  },
  {
   "cell_type": "code",
   "execution_count": 8,
   "metadata": {},
   "outputs": [],
   "source": [
    "df_songs = df_cleaned.select('userId', 'sessionId','itemInSession') \\\n",
    "                            .groupby('userId', 'sessionId') \\\n",
    "                            .agg({'itemInSession':'max'}) \\\n",
    "                            .groupby('userId') \\\n",
    "                            .agg( Fsum('max(itemInSession)'), avg('max(itemInSession)'), count('sessionId') ) \\\n",
    "                            .withColumnRenamed('avg(max(itemInSession))','avg_count_songs_session') \\\n",
    "                            .withColumnRenamed('sum(max(itemInSession))','count_songs') \\\n",
    "                            .withColumnRenamed('count(sessionId)','count_sessions') \\\n",
    "                            .sort('userId')"
   ]
  },
  {
   "cell_type": "code",
   "execution_count": 9,
   "metadata": {},
   "outputs": [],
   "source": [
    "#%%time\n",
    "#print('Cell execution started', datetime.datetime.now())\n",
    "#df_songs.show(5)\n",
    "#print('Cell execution ended', datetime.datetime.now())"
   ]
  },
  {
   "cell_type": "markdown",
   "metadata": {},
   "source": [
    "## Features derived from `registration` and `ts`\n",
    "Get lifetime in days."
   ]
  },
  {
   "cell_type": "code",
   "execution_count": 10,
   "metadata": {},
   "outputs": [],
   "source": [
    "df_lt = df_cleaned.groupby('userId') \\\n",
    "            .agg({'registration' : 'min','ts':'max'})\\\n",
    "            .withColumn('lt_in_days',(col('max(ts)')-col('min(registration)'))/1000/60/60/24)\\\n",
    "            .select('userId','lt_in_days')\\\n",
    "            .sort('userId')"
   ]
  },
  {
   "cell_type": "code",
   "execution_count": 11,
   "metadata": {},
   "outputs": [],
   "source": [
    "#%%time\n",
    "#df_lt.show(5)"
   ]
  },
  {
   "cell_type": "markdown",
   "metadata": {},
   "source": [
    "## Features derived from `status`\n",
    "one hot encode count of the 3 statuses"
   ]
  },
  {
   "cell_type": "code",
   "execution_count": 12,
   "metadata": {},
   "outputs": [
    {
     "name": "stdout",
     "output_type": "stream",
     "text": [
      "['307', '404', '200']\n"
     ]
    }
   ],
   "source": [
    "# create list of status\n",
    "status_list = [str(row[0]) for row in df_cleaned.select('status').distinct().collect()]\n",
    "print(status_list)"
   ]
  },
  {
   "cell_type": "code",
   "execution_count": 13,
   "metadata": {},
   "outputs": [],
   "source": [
    "df_status = df_cleaned\n",
    "\n",
    "# remove spaces in column names, fill column with 1 if page equals list value\n",
    "for status in status_list:\n",
    "    df_status = df_status.withColumn('status_'+status, \n",
    "                                       Fsum((df_cleaned.status == status).cast(IntegerType())).over(windowval))\n",
    "\n",
    "df_status = df_status.select('userId','status_307','status_404','status_200').distinct().sort('userId')"
   ]
  },
  {
   "cell_type": "code",
   "execution_count": 14,
   "metadata": {},
   "outputs": [],
   "source": [
    "#%%time\n",
    "#df_status.show(5)"
   ]
  },
  {
   "cell_type": "markdown",
   "metadata": {},
   "source": [
    "## Features derived from `userAgent`"
   ]
  },
  {
   "cell_type": "code",
   "execution_count": 15,
   "metadata": {},
   "outputs": [],
   "source": [
    "lov = ['Macintosh', 'Windows NT', 'X11', 'iPad', 'iPhone', 'MSIE']\n",
    "\n",
    "df_user_agent = df_cleaned\n",
    " \n",
    "@udf\n",
    "def map_userAgents(row_value):\n",
    "    for value in lov:\n",
    "        if row_value.find(value) > -1:\n",
    "            return(value)\n",
    "\n",
    "# remove spaces in column names, fill column with 1 if userAgent contains list value\n",
    "df_user_agent = df_user_agent.select('userId','userAgent')\\\n",
    "                            .distinct()\\\n",
    "                            .withColumn('userAgent_short', map_userAgents(col('userAgent')))\\\n",
    "                            .select('userId','userAgent_short')\n",
    "\n",
    "for value in lov:\n",
    "    df_user_agent = df_user_agent.withColumn(value.replace(' ', ''), (col('userAgent_short') == value).cast(IntegerType()))\n",
    "\n",
    "# 2nd list for df.select \n",
    "lov_2 = []\n",
    "\n",
    "for value in lov:\n",
    "    lov_2.append(value.replace(' ',''))\n",
    "\n",
    "#select subset of df and drop duplicates \n",
    "df_user_agent = df_user_agent.select('userId', *lov_2)"
   ]
  },
  {
   "cell_type": "code",
   "execution_count": 16,
   "metadata": {},
   "outputs": [],
   "source": [
    "#%%time\n",
    "#print('Cell execution started', datetime.datetime.now())\n",
    "#df_user_agent.show(5)\n",
    "#print('Cell execution ended', datetime.datetime.now())"
   ]
  },
  {
   "cell_type": "markdown",
   "metadata": {},
   "source": [
    "## Features derived from `level`"
   ]
  },
  {
   "cell_type": "code",
   "execution_count": 17,
   "metadata": {},
   "outputs": [],
   "source": [
    "df_level = df_cleaned.select('userId','level').distinct()\\\n",
    "                        .withColumn('user_level_paid', (df_cleaned.level == 'paid').cast(IntegerType()))\\\n",
    "                        .groupby('userId')\\\n",
    "                        .agg({'user_level_paid':'max'})\\\n",
    "                        .select('userId','max(user_level_paid)')\\\n",
    "                        .withColumnRenamed('max(user_level_paid)','hasPaid')\\\n",
    "                        .sort('userId')"
   ]
  },
  {
   "cell_type": "code",
   "execution_count": 18,
   "metadata": {},
   "outputs": [],
   "source": [
    "#%%time\n",
    "#df_level.show(6)"
   ]
  },
  {
   "cell_type": "markdown",
   "metadata": {},
   "source": [
    "## Some Data Cleansing & Preparation"
   ]
  },
  {
   "cell_type": "code",
   "execution_count": 19,
   "metadata": {},
   "outputs": [],
   "source": [
    "# create df_label with labels for churn\n",
    "tag_event_cancelation = udf(lambda x: 1 if x == 'Cancellation Confirmation' else 0, IntegerType())\n",
    "df_labels = df_cleaned.withColumn('event_cancelation', tag_event_cancelation(df_cleaned[\"page\"]))\n",
    "df_labels = df_labels.withColumn('label', Fsum('event_cancelation').over(windowval))\n",
    "df_labels = df_labels.select('userId', 'label').dropDuplicates().sort('userId')"
   ]
  },
  {
   "cell_type": "code",
   "execution_count": 20,
   "metadata": {},
   "outputs": [
    {
     "name": "stdout",
     "output_type": "stream",
     "text": [
      "+-----+\n",
      "|label|\n",
      "+-----+\n",
      "|    0|\n",
      "|    1|\n",
      "+-----+\n",
      "\n",
      "+------+-----+\n",
      "|userId|label|\n",
      "+------+-----+\n",
      "|    10|    0|\n",
      "|   100|    0|\n",
      "+------+-----+\n",
      "only showing top 2 rows\n",
      "\n"
     ]
    }
   ],
   "source": [
    "df_labels.select('label').distinct().show()\n",
    "df_labels.show(2)"
   ]
  },
  {
   "cell_type": "code",
   "execution_count": 21,
   "metadata": {},
   "outputs": [],
   "source": [
    "# join all feature dfs together \n",
    "# .join(df_user_agent, \"userId\")\\\n",
    "\n",
    "df_full = df_labels.select('userId', 'label')\\\n",
    "                    .dropDuplicates()\\\n",
    "                    .join(df_gender, \"userId\")\\\n",
    "                    .join(df_level, \"userId\")\\\n",
    "                    .join(df_lt, \"userId\")\\\n",
    "                    .join(df_page, \"userId\")\\\n",
    "                    .join(df_songs, \"userId\")\\\n",
    "                    .join(df_status, \"userId\")\\\n",
    "                    .dropDuplicates()\\\n",
    "                    .sort('userId')"
   ]
  },
  {
   "cell_type": "code",
   "execution_count": 22,
   "metadata": {},
   "outputs": [
    {
     "name": "stdout",
     "output_type": "stream",
     "text": [
      "Cell execution started 2019-06-07 21:38:32.457633\n",
      "+------+-----+-------+-------+------------------+---------------+----------+----+---------+----------+------+------------+-----+--------+-------------+---------+--------+--------+----+-------+-----+-------------+-----------+-----------------------+--------------+----------+----------+----------+\n",
      "|userId|label|is_male|hasPaid|        lt_in_days|SubmitDowngrade|ThumbsDown|Home|Downgrade|RollAdvert|Logout|SaveSettings|About|Settings|AddtoPlaylist|AddFriend|NextSong|ThumbsUp|Help|Upgrade|Error|SubmitUpgrade|count_songs|avg_count_songs_session|count_sessions|status_307|status_404|status_200|\n",
      "+------+-----+-------+-------+------------------+---------------+----------+----+---------+----------+------+------------+-----+--------+-------------+---------+--------+--------+----+-------+-----+-------------+-----------+-----------------------+--------------+----------+----------+----------+\n",
      "|    10|    0|      1|      1| 51.76265046296296|              0|         4|  30|        7|         1|    11|           1|    2|       7|            9|       12|     673|      37|   1|      0|    0|            0|        813|                  135.5|             6|        65|         0|       730|\n",
      "|   100|    0|      1|      1| 64.87377314814815|              1|        27| 105|       30|        25|    35|           5|   12|      11|           61|       49|    2682|     148|  18|      1|    3|            1|       3263|      93.22857142857143|            35|       266|         3|      2945|\n",
      "|100001|    1|      0|      0| 44.80021990740741|              0|         2|  11|        0|        14|     7|           0|    0|       1|            3|        2|     133|       8|   1|      2|    1|            0|        197|                  49.25|             4|        20|         1|       166|\n",
      "|100002|    0|      0|      1|160.47207175925925|              0|         0|   6|        2|         3|     1|           0|    0|       0|            5|        1|     195|       5|   0|      0|    0|            0|        216|                   54.0|             4|         7|         0|       211|\n",
      "|100003|    1|      0|      0|22.748113425925926|              0|         0|   7|        0|         9|     3|           0|    0|       0|            2|        0|      51|       3|   1|      0|    0|            0|         82|                   41.0|             2|         7|         0|        71|\n",
      "+------+-----+-------+-------+------------------+---------------+----------+----+---------+----------+------+------------+-----+--------+-------------+---------+--------+--------+----+-------+-----+-------------+-----------+-----------------------+--------------+----------+----------+----------+\n",
      "only showing top 5 rows\n",
      "\n",
      "Cell execution ended 2019-06-07 21:40:48.774470\n",
      "Wall time: 2min 16s\n"
     ]
    }
   ],
   "source": [
    "%%time\n",
    "print('Cell execution started', datetime.datetime.now())\n",
    "df_full.show(5)\n",
    "print('Cell execution ended', datetime.datetime.now())"
   ]
  },
  {
   "cell_type": "code",
   "execution_count": 23,
   "metadata": {},
   "outputs": [
    {
     "data": {
      "text/html": [
       "<div>\n",
       "<style scoped>\n",
       "    .dataframe tbody tr th:only-of-type {\n",
       "        vertical-align: middle;\n",
       "    }\n",
       "\n",
       "    .dataframe tbody tr th {\n",
       "        vertical-align: top;\n",
       "    }\n",
       "\n",
       "    .dataframe thead th {\n",
       "        text-align: right;\n",
       "    }\n",
       "</style>\n",
       "<table border=\"1\" class=\"dataframe\">\n",
       "  <thead>\n",
       "    <tr style=\"text-align: right;\">\n",
       "      <th></th>\n",
       "      <th>userId</th>\n",
       "      <th>label</th>\n",
       "      <th>is_male</th>\n",
       "      <th>hasPaid</th>\n",
       "      <th>lt_in_days</th>\n",
       "      <th>SubmitDowngrade</th>\n",
       "      <th>ThumbsDown</th>\n",
       "      <th>Home</th>\n",
       "      <th>Downgrade</th>\n",
       "      <th>RollAdvert</th>\n",
       "      <th>...</th>\n",
       "      <th>Help</th>\n",
       "      <th>Upgrade</th>\n",
       "      <th>Error</th>\n",
       "      <th>SubmitUpgrade</th>\n",
       "      <th>count_songs</th>\n",
       "      <th>avg_count_songs_session</th>\n",
       "      <th>count_sessions</th>\n",
       "      <th>status_307</th>\n",
       "      <th>status_404</th>\n",
       "      <th>status_200</th>\n",
       "    </tr>\n",
       "  </thead>\n",
       "  <tbody>\n",
       "    <tr>\n",
       "      <th>0</th>\n",
       "      <td>10</td>\n",
       "      <td>0</td>\n",
       "      <td>1</td>\n",
       "      <td>1</td>\n",
       "      <td>51.762650</td>\n",
       "      <td>0</td>\n",
       "      <td>4</td>\n",
       "      <td>30</td>\n",
       "      <td>7</td>\n",
       "      <td>1</td>\n",
       "      <td>...</td>\n",
       "      <td>1</td>\n",
       "      <td>0</td>\n",
       "      <td>0</td>\n",
       "      <td>0</td>\n",
       "      <td>813</td>\n",
       "      <td>135.500000</td>\n",
       "      <td>6</td>\n",
       "      <td>65</td>\n",
       "      <td>0</td>\n",
       "      <td>730</td>\n",
       "    </tr>\n",
       "    <tr>\n",
       "      <th>1</th>\n",
       "      <td>100</td>\n",
       "      <td>0</td>\n",
       "      <td>1</td>\n",
       "      <td>1</td>\n",
       "      <td>64.873773</td>\n",
       "      <td>1</td>\n",
       "      <td>27</td>\n",
       "      <td>105</td>\n",
       "      <td>30</td>\n",
       "      <td>25</td>\n",
       "      <td>...</td>\n",
       "      <td>18</td>\n",
       "      <td>1</td>\n",
       "      <td>3</td>\n",
       "      <td>1</td>\n",
       "      <td>3263</td>\n",
       "      <td>93.228571</td>\n",
       "      <td>35</td>\n",
       "      <td>266</td>\n",
       "      <td>3</td>\n",
       "      <td>2945</td>\n",
       "    </tr>\n",
       "    <tr>\n",
       "      <th>2</th>\n",
       "      <td>100001</td>\n",
       "      <td>1</td>\n",
       "      <td>0</td>\n",
       "      <td>0</td>\n",
       "      <td>44.800220</td>\n",
       "      <td>0</td>\n",
       "      <td>2</td>\n",
       "      <td>11</td>\n",
       "      <td>0</td>\n",
       "      <td>14</td>\n",
       "      <td>...</td>\n",
       "      <td>1</td>\n",
       "      <td>2</td>\n",
       "      <td>1</td>\n",
       "      <td>0</td>\n",
       "      <td>197</td>\n",
       "      <td>49.250000</td>\n",
       "      <td>4</td>\n",
       "      <td>20</td>\n",
       "      <td>1</td>\n",
       "      <td>166</td>\n",
       "    </tr>\n",
       "  </tbody>\n",
       "</table>\n",
       "<p>3 rows × 28 columns</p>\n",
       "</div>"
      ],
      "text/plain": [
       "   userId  label  is_male  hasPaid  lt_in_days  SubmitDowngrade  ThumbsDown  \\\n",
       "0      10      0        1        1   51.762650                0           4   \n",
       "1     100      0        1        1   64.873773                1          27   \n",
       "2  100001      1        0        0   44.800220                0           2   \n",
       "\n",
       "   Home  Downgrade  RollAdvert     ...      Help  Upgrade  Error  \\\n",
       "0    30          7           1     ...         1        0      0   \n",
       "1   105         30          25     ...        18        1      3   \n",
       "2    11          0          14     ...         1        2      1   \n",
       "\n",
       "   SubmitUpgrade  count_songs  avg_count_songs_session  count_sessions  \\\n",
       "0              0          813               135.500000               6   \n",
       "1              1         3263                93.228571              35   \n",
       "2              0          197                49.250000               4   \n",
       "\n",
       "   status_307  status_404  status_200  \n",
       "0          65           0         730  \n",
       "1         266           3        2945  \n",
       "2          20           1         166  \n",
       "\n",
       "[3 rows x 28 columns]"
      ]
     },
     "execution_count": 23,
     "metadata": {},
     "output_type": "execute_result"
    }
   ],
   "source": [
    "df_full.toPandas().head(3)"
   ]
  },
  {
   "cell_type": "code",
   "execution_count": 24,
   "metadata": {},
   "outputs": [
    {
     "name": "stdout",
     "output_type": "stream",
     "text": [
      "['userId', 'label', 'is_male', 'hasPaid', 'lt_in_days', 'SubmitDowngrade', 'ThumbsDown', 'Home', 'Downgrade', 'RollAdvert', 'Logout', 'SaveSettings', 'About', 'Settings', 'AddtoPlaylist', 'AddFriend', 'NextSong', 'ThumbsUp', 'Help', 'Upgrade', 'Error', 'SubmitUpgrade', 'count_songs', 'avg_count_songs_session', 'count_sessions', 'status_307', 'status_404', 'status_200']\n",
      "['is_male', 'hasPaid', 'lt_in_days', 'SubmitDowngrade', 'ThumbsDown', 'Home', 'Downgrade', 'RollAdvert', 'Logout', 'SaveSettings', 'About', 'Settings', 'AddtoPlaylist', 'AddFriend', 'NextSong', 'ThumbsUp', 'Help', 'Upgrade', 'Error', 'SubmitUpgrade', 'count_songs', 'avg_count_songs_session', 'count_sessions', 'status_307', 'status_404', 'status_200']\n"
     ]
    }
   ],
   "source": [
    "features = list(df_full.columns)\n",
    "print(features)\n",
    "type(features)\n",
    "features.remove('userId')\n",
    "features.remove('label')\n",
    "print(features)"
   ]
  },
  {
   "cell_type": "markdown",
   "metadata": {},
   "source": [
    "## Put it all together in a function"
   ]
  },
  {
   "cell_type": "code",
   "execution_count": 25,
   "metadata": {},
   "outputs": [],
   "source": [
    "def create_feature_df(df):\n",
    "    print('Drop NaN values...')\n",
    "    df_cleaned = df.dropna(how = \"any\", subset = [\"gender\"])\n",
    "    \n",
    "    print(\"Creating features from 'gender'...\")\n",
    "    df_gender = df_cleaned.select('userId','gender').distinct()\\\n",
    "                        .withColumn('is_male', (df_cleaned.gender == 'M').cast(IntegerType()))\\\n",
    "                        .sort('userId')\\\n",
    "                        .select('userId','is_male')\n",
    "    \n",
    "    print(\"Creating features from 'page'...\")\n",
    "    pages = [row[0] for row in df_cleaned.select('page').distinct().collect()]\n",
    "\n",
    "    pages.remove('Cancel')\n",
    "    pages.remove('Cancellation Confirmation')\n",
    "    windowval = Window.partitionBy('userId')\n",
    "    df_page = df_cleaned\n",
    "    \n",
    "    for page in pages:\n",
    "        df_page = df_page.withColumn(page.replace(' ', ''),\n",
    "                                     Fsum((df_cleaned.page == page).cast(IntegerType())).over(windowval))\n",
    "    pages_2 = []\n",
    "    for page in pages:\n",
    "        pages_2.append(page.replace(' ',''))\n",
    "\n",
    "    df_page = df_page.select('userId', *pages_2).dropDuplicates().sort('userId')\n",
    "    \n",
    "    print(\"Creating features from 'itemInSession' and 'sessionId'...\")\n",
    "    df_songs = df_cleaned.select('userId', 'sessionId','itemInSession') \\\n",
    "                            .groupby('userId', 'sessionId') \\\n",
    "                            .agg({'itemInSession':'max'}) \\\n",
    "                            .groupby('userId') \\\n",
    "                            .agg( Fsum('max(itemInSession)'), avg('max(itemInSession)'), count('sessionId') ) \\\n",
    "                            .withColumnRenamed('avg(max(itemInSession))','avg_count_songs_session') \\\n",
    "                            .withColumnRenamed('sum(max(itemInSession))','count_songs') \\\n",
    "                            .withColumnRenamed('count(sessionId)','count_sessions') \\\n",
    "                            .sort('userId')\n",
    "    \n",
    "    print(\"Creating features from 'registration' and 'ts'...\")\n",
    "    df_lt = df_cleaned.groupby('userId') \\\n",
    "            .agg({'registration' : 'min','ts':'max'})\\\n",
    "            .withColumn('lt_in_days',(col('max(ts)')-col('min(registration)'))/1000/60/60/24)\\\n",
    "            .select('userId','lt_in_days')\\\n",
    "            .sort('userId')\n",
    "\n",
    "    print(\"Creating features from 'registration' and 'ts'...\")\n",
    "    status_list = [str(row[0]) for row in df_cleaned.select('status').distinct().collect()]\n",
    "    df_status = df_cleaned\n",
    "    for status in status_list:\n",
    "        df_status = df_status.withColumn('status_'+status,\n",
    "                                         Fsum((df_cleaned.status == status).cast(IntegerType())).over(windowval))\n",
    "    df_status = df_status.select('userId','status_307','status_404','status_200').distinct().sort('userId')\n",
    "    \n",
    "    print(\"Creating features from 'level'...\")\n",
    "    df_level = df_cleaned.select('userId','level').distinct()\\\n",
    "                        .withColumn('user_level_paid', (df_cleaned.level == 'paid').cast(IntegerType()))\\\n",
    "                        .groupby('userId')\\\n",
    "                        .agg({'user_level_paid':'max'})\\\n",
    "                        .select('userId','max(user_level_paid)')\\\n",
    "                        .withColumnRenamed('max(user_level_paid)','hasPaid')\\\n",
    "                        .sort('userId')\n",
    "\n",
    "    print(\"Creating labels...\")\n",
    "    tag_event_cancelation = udf(lambda x: 1 if x == 'Cancellation Confirmation' else 0, IntegerType())\n",
    "    df_labels = df_cleaned.withColumn('event_cancelation', tag_event_cancelation(df_cleaned[\"page\"]))\n",
    "    df_labels = df_labels.withColumn('label', Fsum('event_cancelation').over(windowval))\n",
    "    df_labels = df_labels.select('userId', 'label').dropDuplicates().sort('userId')\n",
    "    \n",
    "    print(\"Joining all df together to df_features...\")\n",
    "    df_features = df_labels.select('userId', 'label')\\\n",
    "                    .dropDuplicates()\\\n",
    "                    .join(df_gender, \"userId\")\\\n",
    "                    .join(df_level, \"userId\")\\\n",
    "                    .join(df_lt, \"userId\")\\\n",
    "                    .join(df_page, \"userId\")\\\n",
    "                    .join(df_songs, \"userId\")\\\n",
    "                    .join(df_status, \"userId\")\\\n",
    "                    .dropDuplicates()\\\n",
    "                    .sort('userId')\n",
    "    \n",
    "    print(\"Returned df_features...\")\n",
    "    return df_features"
   ]
  },
  {
   "cell_type": "markdown",
   "metadata": {},
   "source": [
    "# Modeling\n",
    "Split the full dataset into train, test, and validation sets. Test out several of the machine learning methods you learned. Evaluate the accuracy of the various models, tuning parameters as necessary. Determine your winning model based on test accuracy and report results on the validation set. Since the churned users are a fairly small subset, I suggest using F1 score as the metric to optimize."
   ]
  },
  {
   "cell_type": "markdown",
   "metadata": {},
   "source": [
    "### 1. Train Test Split, Vectorassembler and Standardscaler"
   ]
  },
  {
   "cell_type": "code",
   "execution_count": 26,
   "metadata": {},
   "outputs": [
    {
     "name": "stdout",
     "output_type": "stream",
     "text": [
      "Wall time: 401 ms\n"
     ]
    }
   ],
   "source": [
    "%%time\n",
    "# Apply vectorassembler - https://spark.apache.org/docs/latest/ml-features.html#vectorassembler\n",
    "assembler = VectorAssembler(inputCols=features, outputCol='features_vector')\n",
    "\n",
    "df_full = assembler.transform(df_full)"
   ]
  },
  {
   "cell_type": "code",
   "execution_count": 27,
   "metadata": {},
   "outputs": [
    {
     "name": "stdout",
     "output_type": "stream",
     "text": [
      "['is_male', 'hasPaid', 'lt_in_days', 'SubmitDowngrade', 'ThumbsDown', 'Home', 'Downgrade', 'RollAdvert', 'Logout', 'SaveSettings', 'About', 'Settings', 'AddtoPlaylist', 'AddFriend', 'NextSong', 'ThumbsUp', 'Help', 'Upgrade', 'Error', 'SubmitUpgrade', 'count_songs', 'avg_count_songs_session', 'count_sessions', 'status_307', 'status_404', 'status_200']\n"
     ]
    }
   ],
   "source": [
    "print(features)"
   ]
  },
  {
   "cell_type": "code",
   "execution_count": 28,
   "metadata": {},
   "outputs": [
    {
     "name": "stdout",
     "output_type": "stream",
     "text": [
      "Wall time: 2min 14s\n"
     ]
    }
   ],
   "source": [
    "%%time\n",
    "standardScaler = StandardScaler(inputCol='features_vector', \n",
    "                                outputCol='features_scaled')\n",
    "scaler = standardScaler.fit(df_full)\n",
    "df_scaled = scaler.transform(df_full)"
   ]
  },
  {
   "cell_type": "code",
   "execution_count": 29,
   "metadata": {},
   "outputs": [],
   "source": [
    "train, test = df_scaled.randomSplit([0.8, 0.2], seed=42)"
   ]
  },
  {
   "cell_type": "markdown",
   "metadata": {},
   "source": [
    "### 2. Fit and evaluate models (F1 Score)\n",
    "#### 2.1 Function for evaluation metrics\n",
    "https://spark.apache.org/docs/latest/mllib-evaluation-metrics.html"
   ]
  },
  {
   "cell_type": "code",
   "execution_count": 30,
   "metadata": {},
   "outputs": [],
   "source": [
    "#MulticlassClassificationEvaluator??"
   ]
  },
  {
   "cell_type": "code",
   "execution_count": 31,
   "metadata": {},
   "outputs": [],
   "source": [
    "def print_evaluation_metrics(predictionAndLabels):\n",
    "    eval_f1 = MulticlassClassificationEvaluator(metricName='f1')\n",
    "    eval_acc = MulticlassClassificationEvaluator(metricName='accuracy')\n",
    "    eval_prc = MulticlassClassificationEvaluator(metricName='weightedPrecision')\n",
    "    eval_rec = MulticlassClassificationEvaluator(metricName='weightedRecall')\n",
    "\n",
    "    f1s = eval_f1.evaluate(predictionAndLabels.select(col('label'), col('prediction')))\n",
    "    acc = eval_acc.evaluate(predictionAndLabels.select(col('label'), col('prediction')))\n",
    "    prc = eval_prc.evaluate(predictionAndLabels.select(col('label'), col('prediction')))\n",
    "    rec = eval_rec.evaluate(predictionAndLabels.select(col('label'), col('prediction')))\n",
    "    \n",
    "    print('f1 score:', f1s)\n",
    "    print('accuracy:', acc)\n",
    "    print('precision:', prc)\n",
    "    print('recall:', rec)"
   ]
  },
  {
   "cell_type": "markdown",
   "metadata": {},
   "source": [
    "#### 2.2 Logistic Regression\n",
    "https://spark.apache.org/docs/latest/ml-classification-regression.html#logistic-regression\n",
    "https://spark.apache.org/docs/latest/api/python/pyspark.ml.html#pyspark.ml.classification.LogisticRegression"
   ]
  },
  {
   "cell_type": "code",
   "execution_count": 32,
   "metadata": {},
   "outputs": [],
   "source": [
    "#LogisticRegression??"
   ]
  },
  {
   "cell_type": "code",
   "execution_count": 33,
   "metadata": {},
   "outputs": [
    {
     "name": "stdout",
     "output_type": "stream",
     "text": [
      "Cell execution started 2019-06-07 21:45:15.398257\n",
      "Cell execution ended 2019-06-07 21:53:50.473338\n",
      "Wall time: 8min 35s\n"
     ]
    }
   ],
   "source": [
    "%%time\n",
    "print('Cell execution started', datetime.datetime.now())\n",
    "\n",
    "lr = LogisticRegression(featuresCol='features_scaled', \n",
    "                        labelCol='label',\n",
    "                        maxIter=5)\n",
    "model_lr = lr.fit(train)\n",
    "preds_lr = model_lr.transform(test)\n",
    "\n",
    "print('Cell execution ended', datetime.datetime.now())"
   ]
  },
  {
   "cell_type": "code",
   "execution_count": 34,
   "metadata": {},
   "outputs": [
    {
     "name": "stdout",
     "output_type": "stream",
     "text": [
      "Cell execution started 2019-06-07 21:53:50.487347\n",
      "f1 score: 0.7650053022269353\n",
      "accuracy: 0.8260869565217391\n",
      "precision: 0.8570048309178744\n",
      "recall: 0.8260869565217391\n",
      "Wall time: 8min 38s\n"
     ]
    }
   ],
   "source": [
    "%%time\n",
    "print('Cell execution started', datetime.datetime.now())\n",
    "print_evaluation_metrics(preds_lr)"
   ]
  },
  {
   "cell_type": "markdown",
   "metadata": {},
   "source": [
    "#### 2.2 Naive Bayes\n",
    "https://spark.apache.org/docs/latest/ml-classification-regression.html#naive-bayes"
   ]
  },
  {
   "cell_type": "code",
   "execution_count": 35,
   "metadata": {},
   "outputs": [],
   "source": [
    "#NaiveBayes??"
   ]
  },
  {
   "cell_type": "code",
   "execution_count": 36,
   "metadata": {},
   "outputs": [
    {
     "name": "stdout",
     "output_type": "stream",
     "text": [
      "Wall time: 6min 16s\n"
     ]
    }
   ],
   "source": [
    "%%time\n",
    "nb = NaiveBayes(featuresCol='features_scaled', \n",
    "                labelCol='label')\n",
    "model_nb = nb.fit(train) \n",
    "preds_nb = model_nb.transform(test)"
   ]
  },
  {
   "cell_type": "code",
   "execution_count": 37,
   "metadata": {},
   "outputs": [
    {
     "name": "stdout",
     "output_type": "stream",
     "text": [
      "Cell execution started 2019-06-07 22:08:45.840113\n",
      "f1 score: 0.7416149068322981\n",
      "accuracy: 0.7608695652173914\n",
      "precision: 0.7288043478260868\n",
      "recall: 0.7608695652173912\n",
      "Wall time: 8min 48s\n"
     ]
    }
   ],
   "source": [
    "%%time\n",
    "print('Cell execution started', datetime.datetime.now())\n",
    "print_evaluation_metrics(preds_nb)"
   ]
  },
  {
   "cell_type": "markdown",
   "metadata": {},
   "source": [
    "#### 2.3 Random forest classifier\n",
    "https://spark.apache.org/docs/2.2.0/ml-classification-regression.html#random-forest-classifier"
   ]
  },
  {
   "cell_type": "code",
   "execution_count": 38,
   "metadata": {},
   "outputs": [
    {
     "name": "stdout",
     "output_type": "stream",
     "text": [
      "Wall time: 6min 52s\n"
     ]
    }
   ],
   "source": [
    "%%time\n",
    "# Train a RandomForest model.\n",
    "rf = RandomForestClassifier(labelCol='label', \n",
    "                            featuresCol='features_scaled',\n",
    "                            numTrees=10,\n",
    "                            seed=42)\n",
    "model_rf = rf.fit(train)\n",
    "preds_rf = model_rf.transform(test)"
   ]
  },
  {
   "cell_type": "code",
   "execution_count": 39,
   "metadata": {},
   "outputs": [
    {
     "name": "stdout",
     "output_type": "stream",
     "text": [
      "Cell execution started 2019-06-07 22:24:26.915990\n",
      "f1 score: 0.7826086956521738\n",
      "accuracy: 0.782608695652174\n",
      "precision: 0.7826086956521738\n",
      "recall: 0.7826086956521738\n",
      "Wall time: 9min 25s\n"
     ]
    }
   ],
   "source": [
    "%%time\n",
    "print('Cell execution started', datetime.datetime.now())\n",
    "print_evaluation_metrics(preds_rf)"
   ]
  },
  {
   "cell_type": "markdown",
   "metadata": {},
   "source": [
    "### 3. Tune best model\n",
    "Our best model here is the RandomForestClassifier, so lets look at the paramters to tune."
   ]
  },
  {
   "cell_type": "code",
   "execution_count": 40,
   "metadata": {},
   "outputs": [],
   "source": [
    "#RandomForestClassifier??"
   ]
  },
  {
   "cell_type": "markdown",
   "metadata": {},
   "source": [
    "defaults from documentation:\n",
    "```python\n",
    "'maxDepth=5', 'maxBins=32', 'minInstancesPerNode=1', 'minInfoGain=0.0', 'maxMemoryInMB=256', 'cacheNodeIds=False', 'checkpointInterval=10', \"impurity='gini'\", 'numTrees=20', \"featureSubsetStrategy='auto'\", 'seed=None', 'subsamplingRate=1.0'```"
   ]
  },
  {
   "cell_type": "code",
   "execution_count": 41,
   "metadata": {},
   "outputs": [],
   "source": [
    "# set up Crossvalidator and parameter grid for tuning\n",
    "paramGrid = ParamGridBuilder() \\\n",
    "    .addGrid(rf.maxDepth,[1, 3, 10]) \\\n",
    "    .addGrid(rf.maxBins,[8, 16]) \\\n",
    "    .build()\n",
    "\n",
    "crossval = CrossValidator(estimator=rf,\n",
    "                          estimatorParamMaps=paramGrid,\n",
    "                          evaluator=MulticlassClassificationEvaluator(metricName='f1'),\n",
    "                          numFolds=3)"
   ]
  },
  {
   "cell_type": "code",
   "execution_count": 42,
   "metadata": {},
   "outputs": [
    {
     "name": "stdout",
     "output_type": "stream",
     "text": [
      "Cell execution started 2019-06-07 22:33:52.173206\n",
      "Cell execution ended 2019-06-07 23:05:02.457298\n",
      "Wall time: 31min 10s\n"
     ]
    }
   ],
   "source": [
    "%%time\n",
    "print('Cell execution started', datetime.datetime.now())\n",
    "cvModel = crossval.fit(train)\n",
    "print('Cell execution ended', datetime.datetime.now())"
   ]
  },
  {
   "cell_type": "code",
   "execution_count": 43,
   "metadata": {},
   "outputs": [
    {
     "data": {
      "text/plain": [
       "[0.6554818061511773,\n",
       " 0.6554818061511773,\n",
       " 0.6939496629809999,\n",
       " 0.713253331784369,\n",
       " 0.6988993410030286,\n",
       " 0.7379383713483441]"
      ]
     },
     "execution_count": 43,
     "metadata": {},
     "output_type": "execute_result"
    }
   ],
   "source": [
    "cvModel.avgMetrics"
   ]
  },
  {
   "cell_type": "code",
   "execution_count": 44,
   "metadata": {},
   "outputs": [
    {
     "data": {
      "text/plain": [
       "RandomForestClassificationModel (uid=RandomForestClassifier_67284ec99b24) with 10 trees"
      ]
     },
     "execution_count": 44,
     "metadata": {},
     "output_type": "execute_result"
    }
   ],
   "source": [
    "cvModel.bestModel"
   ]
  },
  {
   "cell_type": "code",
   "execution_count": 45,
   "metadata": {},
   "outputs": [
    {
     "data": {
      "text/plain": [
       "SparseVector(26, {0: 0.012, 1: 0.0161, 2: 0.2186, 3: 0.041, 4: 0.0289, 5: 0.029, 6: 0.0263, 7: 0.0596, 8: 0.0155, 9: 0.0405, 10: 0.012, 11: 0.048, 12: 0.0407, 13: 0.0863, 14: 0.0252, 15: 0.0259, 16: 0.0449, 17: 0.0625, 18: 0.0017, 19: 0.0023, 20: 0.0144, 21: 0.0616, 22: 0.0417, 23: 0.0263, 24: 0.0052, 25: 0.0137})"
      ]
     },
     "execution_count": 45,
     "metadata": {},
     "output_type": "execute_result"
    }
   ],
   "source": [
    "cvModel.bestModel.featureImportances"
   ]
  },
  {
   "cell_type": "code",
   "execution_count": 46,
   "metadata": {},
   "outputs": [],
   "source": [
    "feature_importances = pd.DataFrame(cvModel.bestModel.featureImportances.toArray(),\n",
    "                                   index = features,\n",
    "                                    columns=['importance']).sort_values('importance',ascending=False)"
   ]
  },
  {
   "cell_type": "code",
   "execution_count": 47,
   "metadata": {},
   "outputs": [
    {
     "data": {
      "text/html": [
       "<div>\n",
       "<style scoped>\n",
       "    .dataframe tbody tr th:only-of-type {\n",
       "        vertical-align: middle;\n",
       "    }\n",
       "\n",
       "    .dataframe tbody tr th {\n",
       "        vertical-align: top;\n",
       "    }\n",
       "\n",
       "    .dataframe thead th {\n",
       "        text-align: right;\n",
       "    }\n",
       "</style>\n",
       "<table border=\"1\" class=\"dataframe\">\n",
       "  <thead>\n",
       "    <tr style=\"text-align: right;\">\n",
       "      <th></th>\n",
       "      <th>importance</th>\n",
       "    </tr>\n",
       "  </thead>\n",
       "  <tbody>\n",
       "    <tr>\n",
       "      <th>lt_in_days</th>\n",
       "      <td>0.218604</td>\n",
       "    </tr>\n",
       "    <tr>\n",
       "      <th>AddFriend</th>\n",
       "      <td>0.086346</td>\n",
       "    </tr>\n",
       "    <tr>\n",
       "      <th>Upgrade</th>\n",
       "      <td>0.062534</td>\n",
       "    </tr>\n",
       "    <tr>\n",
       "      <th>avg_count_songs_session</th>\n",
       "      <td>0.061589</td>\n",
       "    </tr>\n",
       "    <tr>\n",
       "      <th>RollAdvert</th>\n",
       "      <td>0.059649</td>\n",
       "    </tr>\n",
       "    <tr>\n",
       "      <th>Settings</th>\n",
       "      <td>0.047999</td>\n",
       "    </tr>\n",
       "    <tr>\n",
       "      <th>Help</th>\n",
       "      <td>0.044903</td>\n",
       "    </tr>\n",
       "    <tr>\n",
       "      <th>count_sessions</th>\n",
       "      <td>0.041670</td>\n",
       "    </tr>\n",
       "    <tr>\n",
       "      <th>SubmitDowngrade</th>\n",
       "      <td>0.040991</td>\n",
       "    </tr>\n",
       "    <tr>\n",
       "      <th>AddtoPlaylist</th>\n",
       "      <td>0.040695</td>\n",
       "    </tr>\n",
       "    <tr>\n",
       "      <th>SaveSettings</th>\n",
       "      <td>0.040473</td>\n",
       "    </tr>\n",
       "    <tr>\n",
       "      <th>Home</th>\n",
       "      <td>0.028992</td>\n",
       "    </tr>\n",
       "    <tr>\n",
       "      <th>ThumbsDown</th>\n",
       "      <td>0.028919</td>\n",
       "    </tr>\n",
       "    <tr>\n",
       "      <th>status_307</th>\n",
       "      <td>0.026349</td>\n",
       "    </tr>\n",
       "    <tr>\n",
       "      <th>Downgrade</th>\n",
       "      <td>0.026324</td>\n",
       "    </tr>\n",
       "    <tr>\n",
       "      <th>ThumbsUp</th>\n",
       "      <td>0.025850</td>\n",
       "    </tr>\n",
       "    <tr>\n",
       "      <th>NextSong</th>\n",
       "      <td>0.025225</td>\n",
       "    </tr>\n",
       "    <tr>\n",
       "      <th>hasPaid</th>\n",
       "      <td>0.016057</td>\n",
       "    </tr>\n",
       "    <tr>\n",
       "      <th>Logout</th>\n",
       "      <td>0.015454</td>\n",
       "    </tr>\n",
       "    <tr>\n",
       "      <th>count_songs</th>\n",
       "      <td>0.014427</td>\n",
       "    </tr>\n",
       "    <tr>\n",
       "      <th>status_200</th>\n",
       "      <td>0.013651</td>\n",
       "    </tr>\n",
       "    <tr>\n",
       "      <th>About</th>\n",
       "      <td>0.012044</td>\n",
       "    </tr>\n",
       "    <tr>\n",
       "      <th>is_male</th>\n",
       "      <td>0.012036</td>\n",
       "    </tr>\n",
       "    <tr>\n",
       "      <th>status_404</th>\n",
       "      <td>0.005212</td>\n",
       "    </tr>\n",
       "    <tr>\n",
       "      <th>SubmitUpgrade</th>\n",
       "      <td>0.002276</td>\n",
       "    </tr>\n",
       "    <tr>\n",
       "      <th>Error</th>\n",
       "      <td>0.001730</td>\n",
       "    </tr>\n",
       "  </tbody>\n",
       "</table>\n",
       "</div>"
      ],
      "text/plain": [
       "                         importance\n",
       "lt_in_days                 0.218604\n",
       "AddFriend                  0.086346\n",
       "Upgrade                    0.062534\n",
       "avg_count_songs_session    0.061589\n",
       "RollAdvert                 0.059649\n",
       "Settings                   0.047999\n",
       "Help                       0.044903\n",
       "count_sessions             0.041670\n",
       "SubmitDowngrade            0.040991\n",
       "AddtoPlaylist              0.040695\n",
       "SaveSettings               0.040473\n",
       "Home                       0.028992\n",
       "ThumbsDown                 0.028919\n",
       "status_307                 0.026349\n",
       "Downgrade                  0.026324\n",
       "ThumbsUp                   0.025850\n",
       "NextSong                   0.025225\n",
       "hasPaid                    0.016057\n",
       "Logout                     0.015454\n",
       "count_songs                0.014427\n",
       "status_200                 0.013651\n",
       "About                      0.012044\n",
       "is_male                    0.012036\n",
       "status_404                 0.005212\n",
       "SubmitUpgrade              0.002276\n",
       "Error                      0.001730"
      ]
     },
     "execution_count": 47,
     "metadata": {},
     "output_type": "execute_result"
    }
   ],
   "source": [
    "feature_importances"
   ]
  },
  {
   "cell_type": "code",
   "execution_count": 48,
   "metadata": {},
   "outputs": [
    {
     "data": {
      "image/png": "[encoded data removed]",
      "text/plain": [
       "<Figure size 432x288 with 1 Axes>"
      ]
     },
     "metadata": {
      "needs_background": "light"
     },
     "output_type": "display_data"
    }
   ],
   "source": [
    "#show top 10 features\n",
    "feature_importances.iloc[:10,:].plot(kind='barh');\n",
    "plt.xlabel('RandomForestClassifier feature importance');"
   ]
  },
  {
   "cell_type": "markdown",
   "metadata": {},
   "source": [
    "# Conclusion\n",
    "\n",
    "### I. Load and clean the dataset\n",
    "The small dataset has been loaded and cleaned successfully. The data cleansing was mainly related to visitor events that could not be linked to users with a specific userId.\n",
    "Therefore, we cannot use these events for our training dataset and dropped them.\n",
    "\n",
    "### II. Define the label/user churn\n",
    "Churn has been defined as the 'Cancellation Confirmation' event and labeled accordingly in the dataset.\n",
    "\n",
    "### III. Exploratory Data Analysis\n",
    "Several plots have been created in order to analyze the dataset and gather knowledge and insights for the feature engineering part.\n",
    "\n",
    "### IV. Feature Engineering\n",
    "The features have been created accordingly to the previous analysis, could be further developed after model evaluation.\n",
    "\n",
    "### V. Train models and tune the best model\n",
    "3 ML classifiers have been trained and observed with regards to the F1 Score: LogisticRegression, NaiveBayes and RandomForestClassifier. As we have a small dataset with a binary label class which is imbalanced (one label proportion is significantly higher than the other) and has fewer positive labels (which is usually also the case for fraud detection) I decided to go for the F1 Score.\n",
    "\n",
    "**RandomForestClassifier was the best model with F1 Score of 0.78 (LR 0.77, NB 0.74).** CrossValidator was applied afterwards, but did not lead to an improved F1 Score. So for further optimisation we can exclude the parameters:\n",
    "```python\n",
    "maxDepth - [1, 3, 10]\n",
    "maxBins - [8, 16]\n",
    "```\n",
    "\n",
    "### VI. Suggested Improvements\n",
    "I could train the model on the full dataset on a cloud server instance (AWS or IBM Watson), engineer a few more different features, use more combinations on the paramgrid for the CrossValidator and try out different classifiers."
   ]
  },
  {
   "cell_type": "markdown",
   "metadata": {},
   "source": [
    "# Final Steps\n",
    "Clean up your code, adding comments and renaming variables to make the code easier to read and maintain. Refer to the Spark Project Overview page and Data Scientist Capstone Project Rubric to make sure you are including all components of the capstone project and meet all expectations. Remember, this includes thorough documentation in a README file in a Github repository, as well as a web app or blog post."
   ]
  },
  {
   "cell_type": "code",
   "execution_count": 50,
   "metadata": {},
   "outputs": [
    {
     "data": {
      "text/plain": [
       "0"
      ]
     },
     "execution_count": 50,
     "metadata": {},
     "output_type": "execute_result"
    }
   ],
   "source": [
    "from subprocess import call\n",
    "call(['python', '-m', 'nbconvert', 'Feature_Engineering_and_Model_Training.ipynb'])"
   ]
  }
 ],
 "metadata": {
  "kernelspec": {
   "display_name": "Python 3",
   "language": "python",
   "name": "python3"
  },
  "language_info": {
   "codemirror_mode": {
    "name": "ipython",
    "version": 3
   },
   "file_extension": ".py",
   "mimetype": "text/x-python",
   "name": "python",
   "nbconvert_exporter": "python",
   "pygments_lexer": "ipython3",
   "version": "3.7.1"
  }
 },
 "nbformat": 4,
 "nbformat_minor": 2
}
